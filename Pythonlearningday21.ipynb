{
 "cells": [
  {
   "cell_type": "code",
   "execution_count": 1,
   "id": "2a7c2b9f-6846-4485-9a33-a363445965a9",
   "metadata": {},
   "outputs": [],
   "source": [
    "class HouseBlueprint:\n",
    "    color=\"white\"    #class variabal "
   ]
  },
  {
   "cell_type": "code",
   "execution_count": 2,
   "id": "42b5a004-6b02-4216-9bfb-2956a2239244",
   "metadata": {},
   "outputs": [
    {
     "data": {
      "text/plain": [
       "'white'"
      ]
     },
     "execution_count": 2,
     "metadata": {},
     "output_type": "execute_result"
    }
   ],
   "source": [
    "h1=HouseBlueprint()\n",
    "h1.color"
   ]
  },
  {
   "cell_type": "code",
   "execution_count": 3,
   "id": "229a6c7b-23c5-4366-9a1f-489568eedc04",
   "metadata": {},
   "outputs": [],
   "source": [
    "class HouseBlueprint:\n",
    "    #constructor=>intialize memory addres of object\n",
    "    def __init__(self):\n",
    "        print(\"hey constructor\",self)"
   ]
  },
  {
   "cell_type": "code",
   "execution_count": 5,
   "id": "40b53906-0f1a-4668-8751-96b9db34bcae",
   "metadata": {},
   "outputs": [
    {
     "name": "stdout",
     "output_type": "stream",
     "text": [
      "hey constructor <__main__.HouseBlueprint object at 0x00000283706C0FA0>\n",
      "<__main__.HouseBlueprint object at 0x00000283706C0FA0>\n"
     ]
    }
   ],
   "source": [
    "h1=HouseBlueprint()\n",
    "print(h1)"
   ]
  },
  {
   "cell_type": "code",
   "execution_count": 6,
   "id": "dd873ad4-4b01-4d9f-931d-5a5092d52f4c",
   "metadata": {},
   "outputs": [
    {
     "name": "stdout",
     "output_type": "stream",
     "text": [
      "hey constructor <__main__.HouseBlueprint object at 0x00000283706C3D90>\n",
      "<__main__.HouseBlueprint object at 0x00000283706C3D90>\n"
     ]
    }
   ],
   "source": [
    "h2=HouseBlueprint()\n",
    "print(h2)"
   ]
  },
  {
   "cell_type": "code",
   "execution_count": 7,
   "id": "76058507-7591-41de-ac1b-f9c61bc555dc",
   "metadata": {},
   "outputs": [],
   "source": [
    "class HouseBlueprint:\n",
    "    def __init__(self,x):   # self=h1, x=> yellow\n",
    "        self.color=x"
   ]
  },
  {
   "cell_type": "code",
   "execution_count": 9,
   "id": "84413f77-2ece-4fb3-86bb-581a583c9a87",
   "metadata": {},
   "outputs": [
    {
     "name": "stdout",
     "output_type": "stream",
     "text": [
      "yellow\n"
     ]
    }
   ],
   "source": [
    "h1=HouseBlueprint(\"yellow\")\n",
    "print(h1.color)"
   ]
  },
  {
   "cell_type": "code",
   "execution_count": 10,
   "id": "ccdc633b-d729-4f89-aa3f-f5e18201cb76",
   "metadata": {},
   "outputs": [
    {
     "name": "stdout",
     "output_type": "stream",
     "text": [
      "green\n"
     ]
    }
   ],
   "source": [
    "h2=HouseBlueprint(\"green\")\n",
    "print(h2.color)"
   ]
  },
  {
   "cell_type": "code",
   "execution_count": 23,
   "id": "7aa49e37-0b0f-4326-a330-2516d8ea965c",
   "metadata": {},
   "outputs": [],
   "source": [
    "class HouseBlueprint:\n",
    "    def __init__(self,x,amount):   # self=h1, x=> yellow\n",
    "        self.color=x\n",
    "        self.price=amount\n",
    "    def housePrice(self):\n",
    "        print(\"House price is:\",self.price*0.1)"
   ]
  },
  {
   "cell_type": "code",
   "execution_count": 17,
   "id": "553dbfbf-7061-423b-b874-69a1173f003e",
   "metadata": {},
   "outputs": [
    {
     "name": "stdout",
     "output_type": "stream",
     "text": [
      "yellow 500000\n"
     ]
    }
   ],
   "source": [
    "h1=HouseBlueprint(\"yellow\",500000)\n",
    "print(h1.color,h1.price)"
   ]
  },
  {
   "cell_type": "code",
   "execution_count": 19,
   "id": "9cc59a4d-329b-46ce-8392-29b065d52717",
   "metadata": {},
   "outputs": [
    {
     "name": "stdout",
     "output_type": "stream",
     "text": [
      "green 800000\n"
     ]
    }
   ],
   "source": [
    "h2=HouseBlueprint(\"green\",800000)\n",
    "print(h2.color,h2.price)"
   ]
  },
  {
   "cell_type": "code",
   "execution_count": 24,
   "id": "89a44670-9c4b-4e93-aaf1-0a82395657af",
   "metadata": {},
   "outputs": [
    {
     "name": "stdout",
     "output_type": "stream",
     "text": [
      "House price is: 50000.0\n"
     ]
    }
   ],
   "source": [
    "h1=HouseBlueprint(\"yellow\",500000)\n",
    "h1.housePrice()"
   ]
  },
  {
   "cell_type": "code",
   "execution_count": 25,
   "id": "8dc25c6b-184e-452b-9508-5b800405055c",
   "metadata": {},
   "outputs": [
    {
     "name": "stdout",
     "output_type": "stream",
     "text": [
      "House price is: 80000.0\n"
     ]
    }
   ],
   "source": [
    "h2=HouseBlueprint(\"green\",800000)\n",
    "h2.housePrice()"
   ]
  },
  {
   "cell_type": "code",
   "execution_count": 35,
   "id": "73232ade-96b2-484b-bd61-bc0a83be61f1",
   "metadata": {},
   "outputs": [],
   "source": [
    "class student:\n",
    "    count=0       #class variable\n",
    "    def __init__(self):\n",
    "        student.count+=1   #increment\n",
    "        print(self.count)   "
   ]
  },
  {
   "cell_type": "code",
   "execution_count": 36,
   "id": "6f080c27-0642-45b3-bc8f-38af9b436af4",
   "metadata": {},
   "outputs": [
    {
     "name": "stdout",
     "output_type": "stream",
     "text": [
      "1\n"
     ]
    }
   ],
   "source": [
    "s1=student()"
   ]
  },
  {
   "cell_type": "code",
   "execution_count": 37,
   "id": "93bdd252-c3f3-4336-aa80-bd17e9450acf",
   "metadata": {},
   "outputs": [
    {
     "name": "stdout",
     "output_type": "stream",
     "text": [
      "2\n"
     ]
    }
   ],
   "source": [
    "s2=student()"
   ]
  },
  {
   "cell_type": "code",
   "execution_count": 38,
   "id": "14ef99c6-2d40-4f82-87f3-060fb940cf0b",
   "metadata": {},
   "outputs": [
    {
     "name": "stdout",
     "output_type": "stream",
     "text": [
      "3\n"
     ]
    }
   ],
   "source": [
    "s3=student()"
   ]
  },
  {
   "cell_type": "code",
   "execution_count": 39,
   "id": "6ddfd6d5-8698-458f-93a5-62ae37590810",
   "metadata": {},
   "outputs": [],
   "source": [
    "# inheritance=> feature of oops\n",
    "# where we acquire the property of class to another class\n",
    "# code reusuablity  "
   ]
  },
  {
   "cell_type": "code",
   "execution_count": 49,
   "id": "88f9d7c4-fdff-439a-9616-7f032eee59ea",
   "metadata": {},
   "outputs": [],
   "source": [
    "class stdFather:\n",
    "    bankaccount=500"
   ]
  },
  {
   "cell_type": "code",
   "execution_count": 54,
   "id": "186f083d-b5ce-4e6f-87a6-4390d3f0c52a",
   "metadata": {},
   "outputs": [
    {
     "name": "stdout",
     "output_type": "stream",
     "text": [
      "0\n"
     ]
    }
   ],
   "source": [
    "class stdu(stdFather):   #child class// derived class\n",
    "    fee=0\n",
    "st1=stdu()\n",
    "print(st1.fee)"
   ]
  },
  {
   "cell_type": "code",
   "execution_count": 51,
   "id": "d6fa3b92-53cf-4d22-aede-bf5fe9aef52e",
   "metadata": {},
   "outputs": [
    {
     "name": "stdout",
     "output_type": "stream",
     "text": [
      "0\n",
      "500\n"
     ]
    }
   ],
   "source": [
    "class stdu(stdFather):   #child class// derived class\n",
    "    fee=0\n",
    "st1=stdu()\n",
    "print(st1.fee)\n",
    "st1.fee=st1.bankaccount\n",
    "print(st1.fee)"
   ]
  },
  {
   "cell_type": "code",
   "execution_count": 55,
   "id": "fc0708d0-8c6b-4982-8f35-4f6eb54de886",
   "metadata": {},
   "outputs": [
    {
     "name": "stdout",
     "output_type": "stream",
     "text": [
      "500\n",
      "new 490\n"
     ]
    }
   ],
   "source": [
    "st1=stdu()\n",
    "print(st1.bankaccount)\n",
    "st1.bankaccount-=10\n",
    "print(\"new\",st1.bankaccount)"
   ]
  },
  {
   "cell_type": "code",
   "execution_count": 56,
   "id": "b92ec855-8dc6-42a4-bd90-41bd4949f933",
   "metadata": {},
   "outputs": [],
   "source": [
    "# Zomoto\n",
    "# id, name, email\n",
    "\n",
    "# customer\n",
    "# id, name, email"
   ]
  },
  {
   "cell_type": "code",
   "execution_count": 62,
   "id": "69f7dfb3-1a55-4b6b-a574-595c132435d0",
   "metadata": {},
   "outputs": [],
   "source": [
    "class ZomatoDelivery:\n",
    "    def __init__(self, id, name, email): # id=x, name=y, email=z\n",
    "        self.id=id\n",
    "        self.name=name\n",
    "        self.email=email\n",
    "    def info(self):\n",
    "        print(f\"Delivery partner is {self.name} and id is {self.id}\")"
   ]
  },
  {
   "cell_type": "code",
   "execution_count": 59,
   "id": "4ae6a949-7cbe-4bbb-8364-25a4ee326009",
   "metadata": {},
   "outputs": [
    {
     "name": "stdout",
     "output_type": "stream",
     "text": [
      "19\n"
     ]
    }
   ],
   "source": [
    "zd1=ZomatoDelivery(19,\"annu\",\"annu@gmail.com\")\n",
    "print(zd1.id)"
   ]
  },
  {
   "cell_type": "code",
   "execution_count": 61,
   "id": "cfdc91a8-da97-4226-bc80-ffc3501370e0",
   "metadata": {},
   "outputs": [
    {
     "name": "stdout",
     "output_type": "stream",
     "text": [
      "annu@gmail.com\n"
     ]
    }
   ],
   "source": [
    "zd1=ZomatoDelivery(19,\"annu\",\"annu@gmail.com\")\n",
    "print(zd1.email)"
   ]
  },
  {
   "cell_type": "code",
   "execution_count": 67,
   "id": "7c80a06c-127a-4aa2-a118-6781f35900f6",
   "metadata": {},
   "outputs": [
    {
     "name": "stdout",
     "output_type": "stream",
     "text": [
      "Delivery partner is annu and id is 19\n"
     ]
    }
   ],
   "source": [
    "zd1=ZomatoDelivery(19,\"annu\",\"annu@gmail.com\")\n",
    "zd1.info()"
   ]
  },
  {
   "cell_type": "code",
   "execution_count": 69,
   "id": "090979b2-d3e5-4724-b0f8-0a48b2167dc9",
   "metadata": {},
   "outputs": [
    {
     "data": {
      "text/plain": [
       "'akshu'"
      ]
     },
     "execution_count": 69,
     "metadata": {},
     "output_type": "execute_result"
    }
   ],
   "source": [
    "class ZomatoCustomer(ZomatoDelivery):\n",
    "    def __init__(self, x, y, z):\n",
    "        super().__init__(x,y,z)\n",
    "\n",
    "customer1=ZomatoCustomer(2020,\"akshu\",\"akshu@gmail.com\")\n",
    "customer1.name"
   ]
  },
  {
   "cell_type": "code",
   "execution_count": null,
   "id": "052209a3-43bd-42c9-ac07-6ebafb951720",
   "metadata": {},
   "outputs": [],
   "source": []
  }
 ],
 "metadata": {
  "kernelspec": {
   "display_name": "Python 3 (ipykernel)",
   "language": "python",
   "name": "python3"
  },
  "language_info": {
   "codemirror_mode": {
    "name": "ipython",
    "version": 3
   },
   "file_extension": ".py",
   "mimetype": "text/x-python",
   "name": "python",
   "nbconvert_exporter": "python",
   "pygments_lexer": "ipython3",
   "version": "3.10.11"
  }
 },
 "nbformat": 4,
 "nbformat_minor": 5
}
